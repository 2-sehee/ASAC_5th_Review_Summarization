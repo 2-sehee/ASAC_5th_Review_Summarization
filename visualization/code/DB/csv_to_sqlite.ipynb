{
 "cells": [
  {
   "cell_type": "code",
   "execution_count": 1,
   "metadata": {},
   "outputs": [],
   "source": [
    "import sqlite3\n",
    "import pandas as pd"
   ]
  },
  {
   "cell_type": "markdown",
   "metadata": {},
   "source": [
    "# DB 생성 및 연결"
   ]
  },
  {
   "cell_type": "code",
   "execution_count": 76,
   "metadata": {},
   "outputs": [],
   "source": [
    "# SQLite 데이터베이스 파일 생성\n",
    "conn = sqlite3.connect('ASAC_MAP.db')\n",
    "cursor = conn.cursor()"
   ]
  },
  {
   "cell_type": "code",
   "execution_count": 197,
   "metadata": {},
   "outputs": [],
   "source": [
    "# csv to sqlite 변환 함수\n",
    "\n",
    "def csv_to_sqlite(csv_file, db_file, table_name, chunk_size=1000):\n",
    "    try:\n",
    "        # SQLite 데이터베이스 파일 연결\n",
    "        conn = sqlite3.connect(db_file)\n",
    "        \n",
    "        # CSV 파일을 청크 단위로 읽어 SQLite로 변환\n",
    "        for chunk in pd.read_csv(csv_file, chunksize=chunk_size):  # 여기에서 괄호 ()를 반드시 사용해야 합니다.\n",
    "            chunk.to_sql(table_name, conn, if_exists='append', index=False)\n",
    "        \n",
    "        # 변경 사항 저장\n",
    "        conn.commit()\n",
    "        print(f\"CSV 파일을 SQLite 데이터베이스 '{table_name}' 테이블로 변환 완료\")\n",
    "    \n",
    "    except Exception as e:\n",
    "        print(f\"오류 발생: {e}\")\n",
    "    \n",
    "    finally:\n",
    "        # 연결 종료\n",
    "        conn.close()\n",
    "\n",
    "\n",
    "# # 함수 사용 예시\n",
    "# csv_to_sqlite('your_data.csv', 'mydatabase.db', 'review')"
   ]
  },
  {
   "cell_type": "markdown",
   "metadata": {},
   "source": [
    "## Review table "
   ]
  },
  {
   "cell_type": "code",
   "execution_count": 78,
   "metadata": {},
   "outputs": [],
   "source": [
    "review_csv = f'csv/review.csv'"
   ]
  },
  {
   "cell_type": "code",
   "execution_count": 79,
   "metadata": {},
   "outputs": [
    {
     "name": "stdout",
     "output_type": "stream",
     "text": [
      "   review_id  user_id  business_id  stars  \\\n",
      "0    1443659   607521       108373    5.0   \n",
      "1    1044648   182108       134961    5.0   \n",
      "2    5693786   749220        54049    5.0   \n",
      "3    1166589   572170         9263    2.0   \n",
      "4    6678286   816928       108373    5.0   \n",
      "\n",
      "                                                text                 date  \\\n",
      "0  Found 51st Deli on Uber Eats and we loved it!!...  2017-01-14 21:23:10   \n",
      "1  Love love love this place for HH n dinner is g...  2017-08-07 23:48:51   \n",
      "2  Not sure the significance behind the name and ...  2018-09-25 14:49:55   \n",
      "3  The service is going to be slooooww. And the f...  2017-10-02 01:52:47   \n",
      "4  Much more than a deli! Wife and I had the Phil...  2017-12-29 20:18:59   \n",
      "\n",
      "   food  service  atmosphere  facility  price  others  \n",
      "0     0        1           0         0      0       1  \n",
      "1     1        0           0         1      0       1  \n",
      "2     1        0           0         1      0       1  \n",
      "3     1        1           0         0      0       1  \n",
      "4     1        1           0         0      0       0  \n"
     ]
    }
   ],
   "source": [
    "\n",
    "# CSV 파일을 Pandas DataFrame으로 읽어들입니다.\n",
    "df = pd.read_csv(review_csv)\n",
    "\n",
    "# DataFrame의 상위 5개 행을 출력합니다.\n",
    "print(df.head())\n"
   ]
  },
  {
   "cell_type": "code",
   "execution_count": 54,
   "metadata": {},
   "outputs": [
    {
     "name": "stdout",
     "output_type": "stream",
     "text": [
      "CSV 파일을 SQLite 데이터베이스 'review' 테이블로 변환 완료\n"
     ]
    }
   ],
   "source": [
    "# reveiw table 추가\n",
    "csv_to_sqlite(review_csv, 'ASAC_MAP.db', 'review')"
   ]
  },
  {
   "cell_type": "markdown",
   "metadata": {},
   "source": [
    "## Business table"
   ]
  },
  {
   "cell_type": "code",
   "execution_count": 226,
   "metadata": {},
   "outputs": [],
   "source": [
    "business = pd.read_csv('csv/business_raw.csv')"
   ]
  },
  {
   "cell_type": "code",
   "execution_count": 227,
   "metadata": {},
   "outputs": [
    {
     "data": {
      "text/html": [
       "<div>\n",
       "<style scoped>\n",
       "    .dataframe tbody tr th:only-of-type {\n",
       "        vertical-align: middle;\n",
       "    }\n",
       "\n",
       "    .dataframe tbody tr th {\n",
       "        vertical-align: top;\n",
       "    }\n",
       "\n",
       "    .dataframe thead th {\n",
       "        text-align: right;\n",
       "    }\n",
       "</style>\n",
       "<table border=\"1\" class=\"dataframe\">\n",
       "  <thead>\n",
       "    <tr style=\"text-align: right;\">\n",
       "      <th></th>\n",
       "      <th>business_id</th>\n",
       "      <th>name</th>\n",
       "      <th>address</th>\n",
       "      <th>category</th>\n",
       "      <th>region</th>\n",
       "      <th>review_count_biz</th>\n",
       "      <th>average_stars_biz</th>\n",
       "      <th>service_score</th>\n",
       "      <th>others_score</th>\n",
       "      <th>food_score</th>\n",
       "      <th>price_score</th>\n",
       "      <th>atmosphere_score</th>\n",
       "      <th>facility_score</th>\n",
       "      <th>atmosphere_keyword</th>\n",
       "      <th>facility_keyword</th>\n",
       "      <th>food_keyword</th>\n",
       "      <th>others_keyword</th>\n",
       "      <th>price_keyword</th>\n",
       "      <th>service_keyword</th>\n",
       "    </tr>\n",
       "  </thead>\n",
       "  <tbody>\n",
       "    <tr>\n",
       "      <th>0</th>\n",
       "      <td>110650</td>\n",
       "      <td>M Restaurant</td>\n",
       "      <td>231 S 8th St</td>\n",
       "      <td>['Food', 'Desserts']</td>\n",
       "      <td>Philadelphia, 19106</td>\n",
       "      <td>51.0</td>\n",
       "      <td>3.705882</td>\n",
       "      <td>0.086116</td>\n",
       "      <td>0.235483</td>\n",
       "      <td>0.235545</td>\n",
       "      <td>0.206473</td>\n",
       "      <td>0.464060</td>\n",
       "      <td>-0.060803</td>\n",
       "      <td>outdoor dinner</td>\n",
       "      <td>sat inside</td>\n",
       "      <td>ordered chicken</td>\n",
       "      <td>bad restaurant</td>\n",
       "      <td>drink prices</td>\n",
       "      <td>restaurant presented</td>\n",
       "    </tr>\n",
       "    <tr>\n",
       "      <th>1</th>\n",
       "      <td>110907</td>\n",
       "      <td>Baker Boss Cafe</td>\n",
       "      <td>5694 Nolensville Pike</td>\n",
       "      <td>['Restaurants', 'Vietnamese']</td>\n",
       "      <td>Nashville, 37211</td>\n",
       "      <td>59.0</td>\n",
       "      <td>4.406780</td>\n",
       "      <td>0.363836</td>\n",
       "      <td>0.348599</td>\n",
       "      <td>0.490465</td>\n",
       "      <td>0.589583</td>\n",
       "      <td>0.437653</td>\n",
       "      <td>0.238883</td>\n",
       "      <td>nolsenville place</td>\n",
       "      <td>trove restaurants</td>\n",
       "      <td>snack vietnamese</td>\n",
       "      <td>vietnamese restaurant</td>\n",
       "      <td>pricing menu</td>\n",
       "      <td>restaurant complaint</td>\n",
       "    </tr>\n",
       "    <tr>\n",
       "      <th>2</th>\n",
       "      <td>28638</td>\n",
       "      <td>Embassy Suites by Hilton Tampa Downtown Conven...</td>\n",
       "      <td>513 S Florida Ave</td>\n",
       "      <td>['Restaurants', 'Cafes']</td>\n",
       "      <td>Tampa, 33602</td>\n",
       "      <td>108.0</td>\n",
       "      <td>2.212963</td>\n",
       "      <td>-0.240082</td>\n",
       "      <td>-0.081164</td>\n",
       "      <td>0.182467</td>\n",
       "      <td>-0.359529</td>\n",
       "      <td>0.307114</td>\n",
       "      <td>-0.165903</td>\n",
       "      <td>gasparilla hotel</td>\n",
       "      <td>rooms cleaned</td>\n",
       "      <td>stay tampa</td>\n",
       "      <td>hilton hotels</td>\n",
       "      <td>hotel cost</td>\n",
       "      <td>cancellation hotel</td>\n",
       "    </tr>\n",
       "    <tr>\n",
       "      <th>3</th>\n",
       "      <td>100086</td>\n",
       "      <td>Chili's</td>\n",
       "      <td>1741 Manhattan Blvd</td>\n",
       "      <td>['Restaurants', 'American (Traditional)']</td>\n",
       "      <td>Harvey, 70058</td>\n",
       "      <td>88.0</td>\n",
       "      <td>1.863636</td>\n",
       "      <td>-0.268126</td>\n",
       "      <td>-0.212355</td>\n",
       "      <td>-0.217972</td>\n",
       "      <td>-0.179063</td>\n",
       "      <td>-0.177152</td>\n",
       "      <td>-0.468663</td>\n",
       "      <td>restaurant</td>\n",
       "      <td>restaurant bathrooms</td>\n",
       "      <td>steak expected</td>\n",
       "      <td>restaurant experience</td>\n",
       "      <td>military discount</td>\n",
       "      <td>waitress order</td>\n",
       "    </tr>\n",
       "    <tr>\n",
       "      <th>4</th>\n",
       "      <td>136473</td>\n",
       "      <td>The Blind Tiger Cafe - Westchase</td>\n",
       "      <td>10118 Montague St</td>\n",
       "      <td>['Restaurants', 'Sandwiches']</td>\n",
       "      <td>Tampa, 33626</td>\n",
       "      <td>99.0</td>\n",
       "      <td>3.787879</td>\n",
       "      <td>0.264892</td>\n",
       "      <td>0.356398</td>\n",
       "      <td>0.438167</td>\n",
       "      <td>-0.019682</td>\n",
       "      <td>0.522439</td>\n",
       "      <td>0.387926</td>\n",
       "      <td>tiger cafe</td>\n",
       "      <td>westchase layout</td>\n",
       "      <td>coffee options</td>\n",
       "      <td>westchase coffee</td>\n",
       "      <td>drinks overpriced</td>\n",
       "      <td>latte avocado</td>\n",
       "    </tr>\n",
       "  </tbody>\n",
       "</table>\n",
       "</div>"
      ],
      "text/plain": [
       "   business_id                                               name  \\\n",
       "0       110650                                       M Restaurant   \n",
       "1       110907                                    Baker Boss Cafe   \n",
       "2        28638  Embassy Suites by Hilton Tampa Downtown Conven...   \n",
       "3       100086                                            Chili's   \n",
       "4       136473                   The Blind Tiger Cafe - Westchase   \n",
       "\n",
       "                 address                                   category  \\\n",
       "0           231 S 8th St                       ['Food', 'Desserts']   \n",
       "1  5694 Nolensville Pike              ['Restaurants', 'Vietnamese']   \n",
       "2      513 S Florida Ave                   ['Restaurants', 'Cafes']   \n",
       "3    1741 Manhattan Blvd  ['Restaurants', 'American (Traditional)']   \n",
       "4      10118 Montague St              ['Restaurants', 'Sandwiches']   \n",
       "\n",
       "                region  review_count_biz  average_stars_biz  service_score  \\\n",
       "0  Philadelphia, 19106              51.0           3.705882       0.086116   \n",
       "1     Nashville, 37211              59.0           4.406780       0.363836   \n",
       "2         Tampa, 33602             108.0           2.212963      -0.240082   \n",
       "3        Harvey, 70058              88.0           1.863636      -0.268126   \n",
       "4         Tampa, 33626              99.0           3.787879       0.264892   \n",
       "\n",
       "   others_score  food_score  price_score  atmosphere_score  facility_score  \\\n",
       "0      0.235483    0.235545     0.206473          0.464060       -0.060803   \n",
       "1      0.348599    0.490465     0.589583          0.437653        0.238883   \n",
       "2     -0.081164    0.182467    -0.359529          0.307114       -0.165903   \n",
       "3     -0.212355   -0.217972    -0.179063         -0.177152       -0.468663   \n",
       "4      0.356398    0.438167    -0.019682          0.522439        0.387926   \n",
       "\n",
       "  atmosphere_keyword      facility_keyword      food_keyword  \\\n",
       "0     outdoor dinner            sat inside   ordered chicken   \n",
       "1  nolsenville place     trove restaurants  snack vietnamese   \n",
       "2   gasparilla hotel         rooms cleaned        stay tampa   \n",
       "3         restaurant  restaurant bathrooms    steak expected   \n",
       "4         tiger cafe      westchase layout    coffee options   \n",
       "\n",
       "          others_keyword      price_keyword       service_keyword  \n",
       "0         bad restaurant       drink prices  restaurant presented  \n",
       "1  vietnamese restaurant       pricing menu  restaurant complaint  \n",
       "2          hilton hotels         hotel cost    cancellation hotel  \n",
       "3  restaurant experience  military discount        waitress order  \n",
       "4       westchase coffee  drinks overpriced         latte avocado  "
      ]
     },
     "execution_count": 227,
     "metadata": {},
     "output_type": "execute_result"
    }
   ],
   "source": [
    "business.head()"
   ]
  },
  {
   "cell_type": "code",
   "execution_count": 228,
   "metadata": {},
   "outputs": [
    {
     "name": "stdout",
     "output_type": "stream",
     "text": [
      "<class 'pandas.core.frame.DataFrame'>\n",
      "RangeIndex: 651 entries, 0 to 650\n",
      "Data columns (total 19 columns):\n",
      " #   Column              Non-Null Count  Dtype  \n",
      "---  ------              --------------  -----  \n",
      " 0   business_id         651 non-null    int64  \n",
      " 1   name                651 non-null    object \n",
      " 2   address             644 non-null    object \n",
      " 3   category            651 non-null    object \n",
      " 4   region              651 non-null    object \n",
      " 5   review_count_biz    651 non-null    float64\n",
      " 6   average_stars_biz   651 non-null    float64\n",
      " 7   service_score       648 non-null    float64\n",
      " 8   others_score        649 non-null    float64\n",
      " 9   food_score          648 non-null    float64\n",
      " 10  price_score         510 non-null    float64\n",
      " 11  atmosphere_score    599 non-null    float64\n",
      " 12  facility_score      593 non-null    float64\n",
      " 13  atmosphere_keyword  600 non-null    object \n",
      " 14  facility_keyword    593 non-null    object \n",
      " 15  food_keyword        650 non-null    object \n",
      " 16  others_keyword      651 non-null    object \n",
      " 17  price_keyword       510 non-null    object \n",
      " 18  service_keyword     649 non-null    object \n",
      "dtypes: float64(8), int64(1), object(10)\n",
      "memory usage: 96.8+ KB\n"
     ]
    }
   ],
   "source": [
    "business.info()"
   ]
  },
  {
   "cell_type": "code",
   "execution_count": 229,
   "metadata": {},
   "outputs": [],
   "source": [
    "# 결측치 처리\n",
    "business['facility_score'] = business['facility_score'].fillna(0)\n",
    "business['service_score'] = business['service_score'].fillna(0)\n",
    "business['others_score'] = business['others_score'].fillna(0)\n",
    "business['food_score'] = business['food_score'].fillna(0)\n",
    "business['price_score'] = business['price_score'].fillna(0)\n",
    "business['atmosphere_score'] = business['atmosphere_score'].fillna(0)\n",
    "\n",
    "\n",
    "business['food_keyword']= business['food_keyword'].fillna('none')\n",
    "business['others_keyword'] = business['others_keyword'].fillna('none')\n",
    "business['atmosphere_keyword'] = business['atmosphere_keyword'].fillna('none')\n",
    "business['facility_keyword'] = business['facility_keyword'].fillna('none')\n",
    "business['service_keyword'] = business['service_keyword'].fillna('none')\n",
    "business['price_keyword'] = business['price_keyword'].fillna('none')\n"
   ]
  },
  {
   "cell_type": "code",
   "execution_count": 233,
   "metadata": {},
   "outputs": [
    {
     "name": "stdout",
     "output_type": "stream",
     "text": [
      "<class 'pandas.core.frame.DataFrame'>\n",
      "RangeIndex: 651 entries, 0 to 650\n",
      "Data columns (total 19 columns):\n",
      " #   Column              Non-Null Count  Dtype  \n",
      "---  ------              --------------  -----  \n",
      " 0   business_id         651 non-null    int64  \n",
      " 1   name                651 non-null    object \n",
      " 2   address             644 non-null    object \n",
      " 3   category            651 non-null    object \n",
      " 4   region              651 non-null    object \n",
      " 5   review_count_biz    651 non-null    float64\n",
      " 6   average_stars_biz   651 non-null    float64\n",
      " 7   service_score       651 non-null    float64\n",
      " 8   others_score        651 non-null    float64\n",
      " 9   food_score          651 non-null    float64\n",
      " 10  price_score         651 non-null    float64\n",
      " 11  atmosphere_score    651 non-null    float64\n",
      " 12  facility_score      651 non-null    float64\n",
      " 13  atmosphere_keyword  651 non-null    object \n",
      " 14  facility_keyword    651 non-null    object \n",
      " 15  food_keyword        651 non-null    object \n",
      " 16  others_keyword      651 non-null    object \n",
      " 17  price_keyword       651 non-null    object \n",
      " 18  service_keyword     651 non-null    object \n",
      "dtypes: float64(8), int64(1), object(10)\n",
      "memory usage: 96.8+ KB\n"
     ]
    }
   ],
   "source": [
    "business.info()"
   ]
  },
  {
   "cell_type": "code",
   "execution_count": 241,
   "metadata": {},
   "outputs": [
    {
     "name": "stdout",
     "output_type": "stream",
     "text": [
      "데이터프레임을 SQLite 데이터베이스 'business' 테이블로 저장 완료\n"
     ]
    }
   ],
   "source": [
    "#DF to sql\n",
    "\n",
    "def df_to_sqlite(df, db_file, table_name, if_exists='append'):\n",
    "    try:\n",
    "        # SQLite 데이터베이스 파일 연결\n",
    "        conn = sqlite3.connect(db_file)\n",
    "        \n",
    "        # 데이터프레임을 SQL 테이블로 저장\n",
    "        df.to_sql(table_name, conn, if_exists=if_exists, index=False)\n",
    "        \n",
    "        # 변경 사항 저장\n",
    "        conn.commit()\n",
    "        print(f\"데이터프레임을 SQLite 데이터베이스 '{table_name}' 테이블로 저장 완료\")\n",
    "    \n",
    "    except Exception as e:\n",
    "        print(f\"오류 발생: {e}\")\n",
    "    \n",
    "    finally:\n",
    "        # 연결 종료\n",
    "        conn.close()\n",
    "\n",
    "# 데이터프레임을 데이터베이스에 저장\n",
    "db_file_path = 'ASAC_MAP.db'\n",
    "table_name = 'business'\n",
    "df_to_sqlite(business, db_file_path, table_name, if_exists='append')  # 'replace', 'append' 또는 'fail'\n"
   ]
  },
  {
   "cell_type": "markdown",
   "metadata": {},
   "source": [
    "## User table"
   ]
  },
  {
   "cell_type": "markdown",
   "metadata": {},
   "source": []
  },
  {
   "cell_type": "code",
   "execution_count": 59,
   "metadata": {},
   "outputs": [],
   "source": [
    "user_csv = f'csv/user.csv'"
   ]
  },
  {
   "cell_type": "code",
   "execution_count": 60,
   "metadata": {},
   "outputs": [
    {
     "name": "stdout",
     "output_type": "stream",
     "text": [
      "<class 'pandas.core.frame.DataFrame'>\n",
      "RangeIndex: 27012 entries, 0 to 27011\n",
      "Data columns (total 7 columns):\n",
      " #   Column               Non-Null Count  Dtype  \n",
      "---  ------               --------------  -----  \n",
      " 0   user_id              27012 non-null  int64  \n",
      " 1   name                 27012 non-null  object \n",
      " 2   review_count_user    27012 non-null  float64\n",
      " 3   average_stars_user   27012 non-null  float64\n",
      " 4   most_visited_region  27012 non-null  object \n",
      " 5   visit_cnt            27012 non-null  float64\n",
      " 6   log_visit_cnt        27012 non-null  float64\n",
      "dtypes: float64(4), int64(1), object(2)\n",
      "memory usage: 1.4+ MB\n"
     ]
    }
   ],
   "source": [
    "user_df=pd.read_csv('csv/user.csv')\n",
    "user_df.info()"
   ]
  },
  {
   "cell_type": "code",
   "execution_count": 61,
   "metadata": {},
   "outputs": [
    {
     "name": "stdout",
     "output_type": "stream",
     "text": [
      "CSV 파일을 SQLite 데이터베이스 'user' 테이블로 변환 완료\n"
     ]
    }
   ],
   "source": [
    "csv_to_sqlite(user_csv, 'ASAC_MAP.db', 'user')"
   ]
  },
  {
   "cell_type": "markdown",
   "metadata": {},
   "source": [
    "## table 조회"
   ]
  },
  {
   "cell_type": "code",
   "execution_count": 242,
   "metadata": {},
   "outputs": [
    {
     "name": "stdout",
     "output_type": "stream",
     "text": [
      "(651,)\n"
     ]
    }
   ],
   "source": [
    "import sqlite3\n",
    "\n",
    "# 데이터베이스 파일에 연결\n",
    "conn = sqlite3.connect('ASAC_MAP.db')\n",
    "cursor = conn.cursor()\n",
    "\n",
    "# 테이블 조회 쿼리 실행\n",
    "cursor.execute(\"SELECT COUNT(*) FROM business\")\n",
    "\n",
    "# 결과를 가져옴\n",
    "rows = cursor.fetchall()\n",
    "\n",
    "# 결과 출력\n",
    "for row in rows:\n",
    "    print(row)\n",
    "\n"
   ]
  },
  {
   "cell_type": "code",
   "execution_count": 120,
   "metadata": {},
   "outputs": [
    {
     "name": "stdout",
     "output_type": "stream",
     "text": [
      "(30879,)\n"
     ]
    }
   ],
   "source": [
    "import sqlite3\n",
    "\n",
    "# 데이터베이스 파일에 연결\n",
    "conn = sqlite3.connect('ASAC_MAP.db')\n",
    "cursor = conn.cursor()\n",
    "\n",
    "# 테이블 조회 쿼리 실행\n",
    "cursor.execute(\"SELECT count(*) FROM review\")\n",
    "\n",
    "# 결과를 가져옴\n",
    "rows = cursor.fetchall()\n",
    "\n",
    "# 결과 출력\n",
    "for row in rows:\n",
    "    print(row)\n",
    "\n"
   ]
  },
  {
   "cell_type": "code",
   "execution_count": 88,
   "metadata": {},
   "outputs": [
    {
     "name": "stdout",
     "output_type": "stream",
     "text": [
      "(27012,)\n"
     ]
    }
   ],
   "source": [
    "import sqlite3\n",
    "\n",
    "# 데이터베이스 파일에 연결\n",
    "conn = sqlite3.connect('ASAC_MAP.db')\n",
    "cursor = conn.cursor()\n",
    "\n",
    "# 테이블 조회 쿼리 실행\n",
    "cursor.execute(\"SELECT count(*) FROM user\")\n",
    "\n",
    "# 결과를 가져옴\n",
    "rows = cursor.fetchall()\n",
    "\n",
    "# 결과 출력\n",
    "for row in rows:\n",
    "    print(row)\n",
    "\n"
   ]
  },
  {
   "cell_type": "code",
   "execution_count": 225,
   "metadata": {},
   "outputs": [
    {
     "name": "stdout",
     "output_type": "stream",
     "text": [
      "review\n",
      "user\n"
     ]
    }
   ],
   "source": [
    "# 모든 테이블 이름 조회\n",
    "cursor.execute(\"SELECT name FROM sqlite_master WHERE type='table';\")\n",
    "tables = cursor.fetchall()\n",
    "\n",
    "\n",
    "# 테이블 이름 출력\n",
    "for table in tables:\n",
    "    print(table[0])\n"
   ]
  },
  {
   "cell_type": "code",
   "execution_count": 91,
   "metadata": {},
   "outputs": [
    {
     "name": "stdout",
     "output_type": "stream",
     "text": [
      "     review_id  user_id  business_id  stars  \\\n",
      "0      3350125   262704        22138    4.0   \n",
      "1      6231996   565964        22138    4.0   \n",
      "2      6823760  1479080        22138    5.0   \n",
      "3      6421669  1493874        22138    5.0   \n",
      "4      3249470  1704373        22138    5.0   \n",
      "..         ...      ...          ...    ...   \n",
      "138    2995022   103858        22138    5.0   \n",
      "139    6136815   571940        22138    5.0   \n",
      "140    4499170   980619        22138    5.0   \n",
      "141     108011  1578922        22138    5.0   \n",
      "142    1847631   284928        22138    5.0   \n",
      "\n",
      "                                                  text                 date  \\\n",
      "0    Really good coffee and not busy. Good quiet pl...  2018-03-23 13:43:28   \n",
      "1    The iced coffee had a nice kick to it & I will...  2018-01-21 15:46:24   \n",
      "2    Love this place! I don't work in Clayton anymo...  2018-04-30 06:31:58   \n",
      "3    The atmosphere is a little cold but the staff ...  2018-06-20 14:28:49   \n",
      "4    Oh my!  I'm having my first \"Pour Over\" and am...  2017-09-10 14:46:27   \n",
      "..                                                 ...                  ...   \n",
      "138  Love coming here! The space is beautiful and t...  2021-11-30 03:14:08   \n",
      "139  Coma coffee is a phenomenal business. Their fo...  2021-05-08 16:36:28   \n",
      "140  Located right across from the Galleria in a da...  2021-06-26 21:05:29   \n",
      "141  I was invited to Coma for an Elite Yelp event....  2021-05-27 00:15:10   \n",
      "142  Coma is my go to coffee shop. Their food and b...  2021-12-31 17:34:58   \n",
      "\n",
      "     food  service  atmosphere  facility  price  others  \n",
      "0       1        0           1         0      0       1  \n",
      "1       1        0           0         0      0       1  \n",
      "2       1        0           1         0      0       1  \n",
      "3       0        1           1         1      0       1  \n",
      "4       1        0           1         0      0       1  \n",
      "..    ...      ...         ...       ...    ...     ...  \n",
      "138     1        0           1         1      0       1  \n",
      "139     1        0           1         0      0       1  \n",
      "140     1        0           1         1      1       1  \n",
      "141     1        0           1         0      0       1  \n",
      "142     1        1           1         0      0       1  \n",
      "\n",
      "[143 rows x 12 columns]\n"
     ]
    }
   ],
   "source": [
    "import sqlite3\n",
    "\n",
    "# 데이터베이스 파일 경로 지정\n",
    "database_path = 'ASAC_MAP.db'\n",
    "\n",
    "# 데이터베이스 연결\n",
    "conn = sqlite3.connect(database_path)\n",
    "\n",
    "\n",
    "# 쿼리 실행\n",
    "biz_id = 22138\n",
    "query = \"SELECT * FROM review WHERE business_id = ?;\"\n",
    "df = pd.read_sql_query(query, conn, params=(biz_id,))\n",
    "# 결과 출력\n",
    "print(df)\n",
    "\n",
    "# 데이터베이스 연결 종료\n",
    "conn.close()\n"
   ]
  },
  {
   "cell_type": "code",
   "execution_count": 92,
   "metadata": {},
   "outputs": [],
   "source": [
    "# 연결 종료\n",
    "conn.close()\n"
   ]
  },
  {
   "cell_type": "markdown",
   "metadata": {},
   "source": [
    "테이블 삭제\n"
   ]
  },
  {
   "cell_type": "code",
   "execution_count": 238,
   "metadata": {},
   "outputs": [
    {
     "name": "stdout",
     "output_type": "stream",
     "text": [
      " table has been deleted successfully.\n"
     ]
    }
   ],
   "source": [
    "import sqlite3\n",
    "\n",
    "# Connect to the SQLite database\n",
    "conn = sqlite3.connect('ASAC_MAP.db')\n",
    "cursor = conn.cursor()\n",
    "\n",
    "# SQL command to drop the review table\n",
    "drop_table_command = \"DROP TABLE IF EXISTS business;\"\n",
    "\n",
    "try:\n",
    "    cursor.execute(drop_table_command)\n",
    "    conn.commit()  # Commit the changes to the database\n",
    "    print(\" table has been deleted successfully.\")\n",
    "except sqlite3.Error as e:\n",
    "    print(f\"An error occurred: {e}\")\n",
    "\n",
    "# finally:\n",
    "#     # Close the cursor and connection to SQLite\n",
    "#     cursor.close()\n",
    "#     conn.close()\n"
   ]
  },
  {
   "cell_type": "code",
   "execution_count": null,
   "metadata": {},
   "outputs": [],
   "source": []
  }
 ],
 "metadata": {
  "kernelspec": {
   "display_name": "Python 3",
   "language": "python",
   "name": "python3"
  },
  "language_info": {
   "codemirror_mode": {
    "name": "ipython",
    "version": 3
   },
   "file_extension": ".py",
   "mimetype": "text/x-python",
   "name": "python",
   "nbconvert_exporter": "python",
   "pygments_lexer": "ipython3",
   "version": "3.12.4"
  }
 },
 "nbformat": 4,
 "nbformat_minor": 2
}
