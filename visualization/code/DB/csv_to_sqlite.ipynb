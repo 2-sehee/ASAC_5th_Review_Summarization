{
 "cells": [
  {
   "cell_type": "code",
   "execution_count": 1,
   "metadata": {},
   "outputs": [],
   "source": [
    "import sqlite3\n",
    "import pandas as pd"
   ]
  },
  {
   "cell_type": "markdown",
   "metadata": {},
   "source": [
    "# DB 생성 및 연결"
   ]
  },
  {
   "cell_type": "code",
   "execution_count": 2,
   "metadata": {},
   "outputs": [],
   "source": [
    "# SQLite 데이터베이스 파일 생성\n",
    "conn = sqlite3.connect('ASAC_MAP_HALF.db')\n",
    "cursor = conn.cursor()"
   ]
  },
  {
   "cell_type": "code",
   "execution_count": 3,
   "metadata": {},
   "outputs": [],
   "source": [
    "# csv to sqlite 변환 함수\n",
    "\n",
    "def csv_to_sqlite(csv_file, db_file, table_name, chunk_size=1000):\n",
    "    try:\n",
    "        # SQLite 데이터베이스 파일 연결\n",
    "        conn = sqlite3.connect(db_file)\n",
    "        \n",
    "        # CSV 파일을 청크 단위로 읽어 SQLite로 변환\n",
    "        for chunk in pd.read_csv(csv_file, chunksize=chunk_size):  # 여기에서 괄호 ()를 반드시 사용해야 합니다.\n",
    "            chunk.to_sql(table_name, conn, if_exists='append', index=False)\n",
    "        \n",
    "        # 변경 사항 저장\n",
    "        conn.commit()\n",
    "        print(f\"CSV 파일을 SQLite 데이터베이스 '{table_name}' 테이블로 변환 완료\")\n",
    "    \n",
    "    except Exception as e:\n",
    "        print(f\"오류 발생: {e}\")\n",
    "    \n",
    "    finally:\n",
    "        # 연결 종료\n",
    "        conn.close()\n",
    "\n",
    "\n",
    "# # 함수 사용 예시\n",
    "# csv_to_sqlite('your_data.csv', 'mydatabase.db', 'review')"
   ]
  },
  {
   "cell_type": "markdown",
   "metadata": {},
   "source": [
    "## Review table "
   ]
  },
  {
   "cell_type": "code",
   "execution_count": 12,
   "metadata": {},
   "outputs": [],
   "source": [
    "review_csv = f'csv/review_df_half.csv'"
   ]
  },
  {
   "cell_type": "code",
   "execution_count": 13,
   "metadata": {},
   "outputs": [
    {
     "name": "stdout",
     "output_type": "stream",
     "text": [
      "   review_id  user_id  business_id  stars  \\\n",
      "0    1443659   607521       108373    5.0   \n",
      "1    1044648   182108       134961    5.0   \n",
      "2    5693786   749220        54049    5.0   \n",
      "3    1166589   572170         9263    2.0   \n",
      "4    6678286   816928       108373    5.0   \n",
      "\n",
      "                                                text                 date  \\\n",
      "0  Found 51st Deli on Uber Eats and we loved it!!...  2017-01-14 21:23:10   \n",
      "1  Love love love this place for HH n dinner is g...  2017-08-07 23:48:51   \n",
      "2  Not sure the significance behind the name and ...  2018-09-25 14:49:55   \n",
      "3  The service is going to be slooooww. And the f...  2017-10-02 01:52:47   \n",
      "4  Much more than a deli! Wife and I had the Phil...  2017-12-29 20:18:59   \n",
      "\n",
      "   food  service  atmosphere  facility  price  others  \n",
      "0     0        1           0         0      0       1  \n",
      "1     1        0           0         1      0       1  \n",
      "2     1        0           0         1      0       1  \n",
      "3     1        1           0         0      0       1  \n",
      "4     1        1           0         0      0       0  \n"
     ]
    }
   ],
   "source": [
    "\n",
    "# CSV 파일을 Pandas DataFrame으로 읽어들입니다.\n",
    "df = pd.read_csv(review_csv)\n",
    "\n",
    "# DataFrame의 상위 5개 행을 출력합니다.\n",
    "print(df.head())\n"
   ]
  },
  {
   "cell_type": "code",
   "execution_count": 27,
   "metadata": {},
   "outputs": [
    {
     "name": "stdout",
     "output_type": "stream",
     "text": [
      "CSV 파일을 SQLite 데이터베이스 'review' 테이블로 변환 완료\n"
     ]
    }
   ],
   "source": [
    "# reveiw table 추가\n",
    "csv_to_sqlite(review_csv, 'ASAC_MAP_HALF.db', 'review')"
   ]
  },
  {
   "cell_type": "markdown",
   "metadata": {},
   "source": [
    "## Business table"
   ]
  },
  {
   "cell_type": "code",
   "execution_count": 2,
   "metadata": {},
   "outputs": [
    {
     "ename": "NameError",
     "evalue": "name 'pd' is not defined",
     "output_type": "error",
     "traceback": [
      "\u001b[1;31m---------------------------------------------------------------------------\u001b[0m",
      "\u001b[1;31mNameError\u001b[0m                                 Traceback (most recent call last)",
      "Cell \u001b[1;32mIn[2], line 1\u001b[0m\n\u001b[1;32m----> 1\u001b[0m business \u001b[38;5;241m=\u001b[39m \u001b[43mpd\u001b[49m\u001b[38;5;241m.\u001b[39mread_csv(\u001b[38;5;124m'\u001b[39m\u001b[38;5;124mcsv/biz_df_half.csv\u001b[39m\u001b[38;5;124m'\u001b[39m)\n",
      "\u001b[1;31mNameError\u001b[0m: name 'pd' is not defined"
     ]
    }
   ],
   "source": [
    "business = pd.read_csv('csv/biz_df_half.csv')"
   ]
  },
  {
   "cell_type": "code",
   "execution_count": 3,
   "metadata": {},
   "outputs": [
    {
     "ename": "NameError",
     "evalue": "name 'business' is not defined",
     "output_type": "error",
     "traceback": [
      "\u001b[1;31m---------------------------------------------------------------------------\u001b[0m",
      "\u001b[1;31mNameError\u001b[0m                                 Traceback (most recent call last)",
      "Cell \u001b[1;32mIn[3], line 1\u001b[0m\n\u001b[1;32m----> 1\u001b[0m \u001b[43mbusiness\u001b[49m\u001b[38;5;241m.\u001b[39mhead()\n",
      "\u001b[1;31mNameError\u001b[0m: name 'business' is not defined"
     ]
    }
   ],
   "source": [
    "business.head()"
   ]
  },
  {
   "cell_type": "code",
   "execution_count": 17,
   "metadata": {},
   "outputs": [
    {
     "name": "stdout",
     "output_type": "stream",
     "text": [
      "<class 'pandas.core.frame.DataFrame'>\n",
      "RangeIndex: 314 entries, 0 to 313\n",
      "Data columns (total 19 columns):\n",
      " #   Column              Non-Null Count  Dtype  \n",
      "---  ------              --------------  -----  \n",
      " 0   business_id         314 non-null    int64  \n",
      " 1   name                314 non-null    object \n",
      " 2   address             311 non-null    object \n",
      " 3   category            314 non-null    object \n",
      " 4   region              314 non-null    object \n",
      " 5   review_count_biz    314 non-null    float64\n",
      " 6   average_stars_biz   314 non-null    float64\n",
      " 7   atmosphere_keyword  314 non-null    object \n",
      " 8   facility_keyword    314 non-null    object \n",
      " 9   food_keyword        314 non-null    object \n",
      " 10  others_keyword      314 non-null    object \n",
      " 11  price_keyword       314 non-null    object \n",
      " 12  service_keyword     314 non-null    object \n",
      " 13  service_score       314 non-null    float64\n",
      " 14  others_score        314 non-null    float64\n",
      " 15  food_score          314 non-null    float64\n",
      " 16  price_score         314 non-null    float64\n",
      " 17  atmosphere_score    314 non-null    float64\n",
      " 18  facility_score      314 non-null    float64\n",
      "dtypes: float64(8), int64(1), object(10)\n",
      "memory usage: 46.7+ KB\n"
     ]
    }
   ],
   "source": [
    "business.info()"
   ]
  },
  {
   "cell_type": "code",
   "execution_count": 20,
   "metadata": {},
   "outputs": [
    {
     "name": "stdout",
     "output_type": "stream",
     "text": [
      "데이터프레임을 SQLite 데이터베이스 'business' 테이블로 저장 완료\n"
     ]
    }
   ],
   "source": [
    "#DF to sql\n",
    "\n",
    "def df_to_sqlite(df, db_file, table_name, if_exists='append'):\n",
    "    try:\n",
    "        # SQLite 데이터베이스 파일 연결\n",
    "        conn = sqlite3.connect(db_file)\n",
    "        \n",
    "        # 데이터프레임을 SQL 테이블로 저장\n",
    "        df.to_sql(table_name, conn, if_exists=if_exists, index=False)\n",
    "        \n",
    "        # 변경 사항 저장\n",
    "        conn.commit()\n",
    "        print(f\"데이터프레임을 SQLite 데이터베이스 '{table_name}' 테이블로 저장 완료\")\n",
    "    \n",
    "    except Exception as e:\n",
    "        print(f\"오류 발생: {e}\")\n",
    "    \n",
    "    finally:\n",
    "        # 연결 종료\n",
    "        conn.close()\n",
    "\n",
    "# 데이터프레임을 데이터베이스에 저장\n",
    "db_file_path = 'ASAC_MAP_HALF.db'\n",
    "table_name = 'business'\n",
    "df_to_sqlite(business, db_file_path, table_name, if_exists='append')  # 'replace', 'append' 또는 'fail'\n"
   ]
  },
  {
   "cell_type": "markdown",
   "metadata": {},
   "source": [
    "## User table"
   ]
  },
  {
   "cell_type": "markdown",
   "metadata": {},
   "source": []
  },
  {
   "cell_type": "code",
   "execution_count": 21,
   "metadata": {},
   "outputs": [],
   "source": [
    "user_csv = f'csv/user_df_half.csv'"
   ]
  },
  {
   "cell_type": "code",
   "execution_count": 22,
   "metadata": {},
   "outputs": [
    {
     "name": "stdout",
     "output_type": "stream",
     "text": [
      "<class 'pandas.core.frame.DataFrame'>\n",
      "RangeIndex: 13714 entries, 0 to 13713\n",
      "Data columns (total 7 columns):\n",
      " #   Column               Non-Null Count  Dtype  \n",
      "---  ------               --------------  -----  \n",
      " 0   user_id              13714 non-null  int64  \n",
      " 1   name                 13714 non-null  object \n",
      " 2   review_count_user    13714 non-null  float64\n",
      " 3   average_stars_user   13714 non-null  float64\n",
      " 4   most_visited_region  13714 non-null  object \n",
      " 5   visit_cnt            13714 non-null  float64\n",
      " 6   log_visit_cnt        13714 non-null  float64\n",
      "dtypes: float64(4), int64(1), object(2)\n",
      "memory usage: 750.1+ KB\n"
     ]
    }
   ],
   "source": [
    "user_df=pd.read_csv('csv/user_df_half.csv')\n",
    "user_df.info()"
   ]
  },
  {
   "cell_type": "code",
   "execution_count": 24,
   "metadata": {},
   "outputs": [
    {
     "name": "stdout",
     "output_type": "stream",
     "text": [
      "CSV 파일을 SQLite 데이터베이스 'user' 테이블로 변환 완료\n"
     ]
    }
   ],
   "source": [
    "csv_to_sqlite(user_csv, 'ASAC_MAP_HALF.db', 'user')"
   ]
  },
  {
   "cell_type": "markdown",
   "metadata": {},
   "source": [
    "## table 조회"
   ]
  },
  {
   "cell_type": "code",
   "execution_count": 25,
   "metadata": {},
   "outputs": [
    {
     "name": "stdout",
     "output_type": "stream",
     "text": [
      "(314,)\n"
     ]
    }
   ],
   "source": [
    "import sqlite3\n",
    "\n",
    "# 데이터베이스 파일에 연결\n",
    "conn = sqlite3.connect('ASAC_MAP_HALF.db')\n",
    "cursor = conn.cursor()\n",
    "\n",
    "# 테이블 조회 쿼리 실행\n",
    "cursor.execute(\"SELECT COUNT(*) FROM business\")\n",
    "\n",
    "# 결과를 가져옴\n",
    "rows = cursor.fetchall()\n",
    "\n",
    "# 결과 출력\n",
    "for row in rows:\n",
    "    print(row)\n",
    "\n"
   ]
  },
  {
   "cell_type": "code",
   "execution_count": 28,
   "metadata": {},
   "outputs": [
    {
     "name": "stdout",
     "output_type": "stream",
     "text": [
      "(15000,)\n"
     ]
    }
   ],
   "source": [
    "import sqlite3\n",
    "\n",
    "# 데이터베이스 파일에 연결\n",
    "conn = sqlite3.connect('ASAC_MAP_HALF.db')\n",
    "cursor = conn.cursor()\n",
    "\n",
    "# 테이블 조회 쿼리 실행\n",
    "cursor.execute(\"SELECT count(*) FROM review\")\n",
    "\n",
    "# 결과를 가져옴\n",
    "rows = cursor.fetchall()\n",
    "\n",
    "# 결과 출력\n",
    "for row in rows:\n",
    "    print(row)\n",
    "\n"
   ]
  },
  {
   "cell_type": "code",
   "execution_count": 29,
   "metadata": {},
   "outputs": [
    {
     "name": "stdout",
     "output_type": "stream",
     "text": [
      "(13714,)\n"
     ]
    }
   ],
   "source": [
    "import sqlite3\n",
    "\n",
    "# 데이터베이스 파일에 연결\n",
    "conn = sqlite3.connect('ASAC_MAP_HALF.db')\n",
    "cursor = conn.cursor()\n",
    "\n",
    "# 테이블 조회 쿼리 실행\n",
    "cursor.execute(\"SELECT count(*) FROM user\")\n",
    "\n",
    "# 결과를 가져옴\n",
    "rows = cursor.fetchall()\n",
    "\n",
    "# 결과 출력\n",
    "for row in rows:\n",
    "    print(row)\n",
    "\n"
   ]
  },
  {
   "cell_type": "code",
   "execution_count": 30,
   "metadata": {},
   "outputs": [
    {
     "name": "stdout",
     "output_type": "stream",
     "text": [
      "business\n",
      "user\n",
      "review\n"
     ]
    }
   ],
   "source": [
    "# 모든 테이블 이름 조회\n",
    "cursor.execute(\"SELECT name FROM sqlite_master WHERE type='table';\")\n",
    "tables = cursor.fetchall()\n",
    "\n",
    "\n",
    "# 테이블 이름 출력\n",
    "for table in tables:\n",
    "    print(table[0])\n"
   ]
  },
  {
   "cell_type": "code",
   "execution_count": 91,
   "metadata": {},
   "outputs": [
    {
     "name": "stdout",
     "output_type": "stream",
     "text": [
      "     review_id  user_id  business_id  stars  \\\n",
      "0      3350125   262704        22138    4.0   \n",
      "1      6231996   565964        22138    4.0   \n",
      "2      6823760  1479080        22138    5.0   \n",
      "3      6421669  1493874        22138    5.0   \n",
      "4      3249470  1704373        22138    5.0   \n",
      "..         ...      ...          ...    ...   \n",
      "138    2995022   103858        22138    5.0   \n",
      "139    6136815   571940        22138    5.0   \n",
      "140    4499170   980619        22138    5.0   \n",
      "141     108011  1578922        22138    5.0   \n",
      "142    1847631   284928        22138    5.0   \n",
      "\n",
      "                                                  text                 date  \\\n",
      "0    Really good coffee and not busy. Good quiet pl...  2018-03-23 13:43:28   \n",
      "1    The iced coffee had a nice kick to it & I will...  2018-01-21 15:46:24   \n",
      "2    Love this place! I don't work in Clayton anymo...  2018-04-30 06:31:58   \n",
      "3    The atmosphere is a little cold but the staff ...  2018-06-20 14:28:49   \n",
      "4    Oh my!  I'm having my first \"Pour Over\" and am...  2017-09-10 14:46:27   \n",
      "..                                                 ...                  ...   \n",
      "138  Love coming here! The space is beautiful and t...  2021-11-30 03:14:08   \n",
      "139  Coma coffee is a phenomenal business. Their fo...  2021-05-08 16:36:28   \n",
      "140  Located right across from the Galleria in a da...  2021-06-26 21:05:29   \n",
      "141  I was invited to Coma for an Elite Yelp event....  2021-05-27 00:15:10   \n",
      "142  Coma is my go to coffee shop. Their food and b...  2021-12-31 17:34:58   \n",
      "\n",
      "     food  service  atmosphere  facility  price  others  \n",
      "0       1        0           1         0      0       1  \n",
      "1       1        0           0         0      0       1  \n",
      "2       1        0           1         0      0       1  \n",
      "3       0        1           1         1      0       1  \n",
      "4       1        0           1         0      0       1  \n",
      "..    ...      ...         ...       ...    ...     ...  \n",
      "138     1        0           1         1      0       1  \n",
      "139     1        0           1         0      0       1  \n",
      "140     1        0           1         1      1       1  \n",
      "141     1        0           1         0      0       1  \n",
      "142     1        1           1         0      0       1  \n",
      "\n",
      "[143 rows x 12 columns]\n"
     ]
    }
   ],
   "source": [
    "import sqlite3\n",
    "\n",
    "# 데이터베이스 파일 경로 지정\n",
    "database_path = 'ASAC_MAP.db'\n",
    "\n",
    "# 데이터베이스 연결\n",
    "conn = sqlite3.connect(database_path)\n",
    "\n",
    "\n",
    "# 쿼리 실행\n",
    "biz_id = 22138\n",
    "query = \"SELECT * FROM review WHERE business_id = ?;\"\n",
    "df = pd.read_sql_query(query, conn, params=(biz_id,))\n",
    "# 결과 출력\n",
    "print(df)\n",
    "\n",
    "# 데이터베이스 연결 종료\n",
    "conn.close()\n"
   ]
  },
  {
   "cell_type": "code",
   "execution_count": 92,
   "metadata": {},
   "outputs": [],
   "source": [
    "# 연결 종료\n",
    "conn.close()\n"
   ]
  },
  {
   "cell_type": "markdown",
   "metadata": {},
   "source": [
    "테이블 삭제\n"
   ]
  },
  {
   "cell_type": "code",
   "execution_count": 1,
   "metadata": {},
   "outputs": [
    {
     "name": "stdout",
     "output_type": "stream",
     "text": [
      " table has been deleted successfully.\n"
     ]
    }
   ],
   "source": [
    "import sqlite3\n",
    "\n",
    "# Connect to the SQLite database\n",
    "conn = sqlite3.connect('ASAC_MAP_HALF.db')\n",
    "cursor = conn.cursor()\n",
    "\n",
    "# SQL command to drop the review table\n",
    "drop_table_command = \"DROP TABLE IF EXISTS business;\"\n",
    "\n",
    "try:\n",
    "    cursor.execute(drop_table_command)\n",
    "    conn.commit()  # Commit the changes to the database\n",
    "    print(\" table has been deleted successfully.\")\n",
    "except sqlite3.Error as e:\n",
    "    print(f\"An error occurred: {e}\")\n",
    "\n",
    "# finally:\n",
    "#     # Close the cursor and connection to SQLite\n",
    "#     cursor.close()\n",
    "#     conn.close()\n"
   ]
  },
  {
   "cell_type": "code",
   "execution_count": null,
   "metadata": {},
   "outputs": [],
   "source": []
  }
 ],
 "metadata": {
  "kernelspec": {
   "display_name": "Python 3",
   "language": "python",
   "name": "python3"
  },
  "language_info": {
   "codemirror_mode": {
    "name": "ipython",
    "version": 3
   },
   "file_extension": ".py",
   "mimetype": "text/x-python",
   "name": "python",
   "nbconvert_exporter": "python",
   "pygments_lexer": "ipython3",
   "version": "3.12.4"
  }
 },
 "nbformat": 4,
 "nbformat_minor": 2
}
