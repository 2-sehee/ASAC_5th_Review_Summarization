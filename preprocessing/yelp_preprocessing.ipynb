{
  "nbformat": 4,
  "nbformat_minor": 0,
  "metadata": {
    "colab": {
      "provenance": [],
      "machine_shape": "hm",
      "gpuType": "T4",
      "toc_visible": true
    },
    "kernelspec": {
      "name": "python3",
      "display_name": "Python 3"
    },
    "language_info": {
      "name": "python"
    },
    "accelerator": "GPU"
  },
  "cells": [
    {
      "cell_type": "markdown",
      "source": [
        "# Yelp Dataset preprocessing by ASAC"
      ],
      "metadata": {
        "id": "VWxkLrrp1rJ1"
      }
    },
    {
      "cell_type": "code",
      "execution_count": 1,
      "metadata": {
        "colab": {
          "base_uri": "https://localhost:8080/"
        },
        "id": "PRp-eZVe0O7D",
        "outputId": "4356c090-fe9e-4ae2-deae-a08ffaebbbf4"
      },
      "outputs": [
        {
          "output_type": "stream",
          "name": "stdout",
          "text": [
            "Mounted at /content/drive\n"
          ]
        }
      ],
      "source": [
        "from google.colab import drive\n",
        "drive.mount('/content/drive')"
      ]
    },
    {
      "cell_type": "code",
      "source": [
        "!pip install polars"
      ],
      "metadata": {
        "colab": {
          "base_uri": "https://localhost:8080/"
        },
        "id": "vGfWxyAk1iVU",
        "outputId": "9c5f9ffa-daea-46bf-9dea-4cbd39e34860"
      },
      "execution_count": 2,
      "outputs": [
        {
          "output_type": "stream",
          "name": "stdout",
          "text": [
            "Requirement already satisfied: polars in /usr/local/lib/python3.10/dist-packages (0.20.2)\n"
          ]
        }
      ]
    },
    {
      "cell_type": "code",
      "source": [
        "import polars as pl\n",
        "import pandas as pd\n",
        "import matplotlib.pyplot as plt"
      ],
      "metadata": {
        "id": "zE2R4kne1jxW"
      },
      "execution_count": 3,
      "outputs": []
    },
    {
      "cell_type": "markdown",
      "source": [
        "## Open Dataset"
      ],
      "metadata": {
        "id": "GEBzO8xb1pDb"
      }
    },
    {
      "cell_type": "code",
      "source": [
        "user_df = pl.read_ndjson(\"/content/drive/MyDrive/ASAC 5기/woowahan/dataset/yelp_academic_dataset_user.json\")"
      ],
      "metadata": {
        "id": "YVHC1EHq1ksg",
        "colab": {
          "base_uri": "https://localhost:8080/",
          "height": 297
        },
        "outputId": "8b0f7f78-985d-4b8e-fd17-b69bafcebb66"
      },
      "execution_count": 4,
      "outputs": [
        {
          "output_type": "error",
          "ename": "FileNotFoundError",
          "evalue": "No such file or directory (os error 2): /content/drive/MyDrive/ASAC 5기/woowahan/dataset/yelp_academic_dataset_user.json",
          "traceback": [
            "\u001b[0;31m---------------------------------------------------------------------------\u001b[0m",
            "\u001b[0;31mFileNotFoundError\u001b[0m                         Traceback (most recent call last)",
            "\u001b[0;32m<ipython-input-4-23e27ea72318>\u001b[0m in \u001b[0;36m<cell line: 1>\u001b[0;34m()\u001b[0m\n\u001b[0;32m----> 1\u001b[0;31m \u001b[0muser_df\u001b[0m \u001b[0;34m=\u001b[0m \u001b[0mpl\u001b[0m\u001b[0;34m.\u001b[0m\u001b[0mread_ndjson\u001b[0m\u001b[0;34m(\u001b[0m\u001b[0;34m\"/content/drive/MyDrive/ASAC 5기/woowahan/dataset/yelp_academic_dataset_user.json\"\u001b[0m\u001b[0;34m)\u001b[0m\u001b[0;34m\u001b[0m\u001b[0;34m\u001b[0m\u001b[0m\n\u001b[0m",
            "\u001b[0;32m/usr/local/lib/python3.10/dist-packages/polars/io/ndjson.py\u001b[0m in \u001b[0;36mread_ndjson\u001b[0;34m(source, schema, schema_overrides, ignore_errors)\u001b[0m\n\u001b[1;32m     48\u001b[0m \u001b[0;34m\u001b[0m\u001b[0m\n\u001b[1;32m     49\u001b[0m     \"\"\"\n\u001b[0;32m---> 50\u001b[0;31m     return pl.DataFrame._read_ndjson(\n\u001b[0m\u001b[1;32m     51\u001b[0m         \u001b[0msource\u001b[0m\u001b[0;34m,\u001b[0m\u001b[0;34m\u001b[0m\u001b[0;34m\u001b[0m\u001b[0m\n\u001b[1;32m     52\u001b[0m         \u001b[0mschema\u001b[0m\u001b[0;34m=\u001b[0m\u001b[0mschema\u001b[0m\u001b[0;34m,\u001b[0m\u001b[0;34m\u001b[0m\u001b[0;34m\u001b[0m\u001b[0m\n",
            "\u001b[0;32m/usr/local/lib/python3.10/dist-packages/polars/dataframe/frame.py\u001b[0m in \u001b[0;36m_read_ndjson\u001b[0;34m(cls, source, schema, schema_overrides, ignore_errors)\u001b[0m\n\u001b[1;32m   1104\u001b[0m \u001b[0;34m\u001b[0m\u001b[0m\n\u001b[1;32m   1105\u001b[0m         \u001b[0mself\u001b[0m \u001b[0;34m=\u001b[0m \u001b[0mcls\u001b[0m\u001b[0;34m.\u001b[0m\u001b[0m__new__\u001b[0m\u001b[0;34m(\u001b[0m\u001b[0mcls\u001b[0m\u001b[0;34m)\u001b[0m\u001b[0;34m\u001b[0m\u001b[0;34m\u001b[0m\u001b[0m\n\u001b[0;32m-> 1106\u001b[0;31m         self._df = PyDataFrame.read_ndjson(\n\u001b[0m\u001b[1;32m   1107\u001b[0m             \u001b[0msource\u001b[0m\u001b[0;34m,\u001b[0m\u001b[0;34m\u001b[0m\u001b[0;34m\u001b[0m\u001b[0m\n\u001b[1;32m   1108\u001b[0m             \u001b[0mignore_errors\u001b[0m\u001b[0;34m=\u001b[0m\u001b[0mignore_errors\u001b[0m\u001b[0;34m,\u001b[0m\u001b[0;34m\u001b[0m\u001b[0;34m\u001b[0m\u001b[0m\n",
            "\u001b[0;31mFileNotFoundError\u001b[0m: No such file or directory (os error 2): /content/drive/MyDrive/ASAC 5기/woowahan/dataset/yelp_academic_dataset_user.json"
          ]
        }
      ]
    },
    {
      "cell_type": "code",
      "source": [
        "biz_df = pl.read_ndjson(\"/content/drive/MyDrive/ASAC 5기/woowahan/dataset/yelp_academic_dataset_business.json\")"
      ],
      "metadata": {
        "id": "PqEsKouS2IOD"
      },
      "execution_count": null,
      "outputs": []
    },
    {
      "cell_type": "code",
      "source": [
        "review_df = pl.read_ndjson(\"/content/drive/MyDrive/ASAC 5기/woowahan/dataset/yelp_academic_dataset_review.json\")"
      ],
      "metadata": {
        "id": "dUSsU_dN2IVO"
      },
      "execution_count": null,
      "outputs": []
    },
    {
      "cell_type": "code",
      "source": [
        "area_df = pl.read_csv(\"/content/drive/MyDrive/ASAC 5기/woowahan/dataset/active_area.csv\")"
      ],
      "metadata": {
        "id": "JniPe88L1t7h"
      },
      "execution_count": null,
      "outputs": []
    },
    {
      "cell_type": "code",
      "source": [
        "## polar to pandas\n",
        "user_df = user_df.to_pandas()\n",
        "biz_df = biz_df.to_pandas()\n",
        "review_df = review_df.to_pandas()\n",
        "area_df = area_df.to_pandas()"
      ],
      "metadata": {
        "id": "WaqF5hGL2U1R"
      },
      "execution_count": null,
      "outputs": []
    },
    {
      "cell_type": "code",
      "source": [
        "biz_df.info()"
      ],
      "metadata": {
        "id": "Fgq_1i1e8b_R"
      },
      "execution_count": null,
      "outputs": []
    },
    {
      "cell_type": "markdown",
      "source": [
        "##  Label Encoding id values\n",
        "\n",
        "* review_df 테이블의 user_id, business_id, review_id를 기준으로 인코더 생성 및 인코딩\n",
        "* 이후 user_df와 biz_df 테이블에 동일한 인코더 적용하여 인코딩"
      ],
      "metadata": {
        "id": "5UskTljS86p3"
      }
    },
    {
      "cell_type": "code",
      "source": [
        "print(\"유저 테이블 유저 수 : \")\n",
        "print(user_df['user_id'].nunique())\n",
        "\n",
        "print(\"리뷰 테이블 유저 수 : \")\n",
        "print(review_df['user_id'].nunique())\n",
        "\n",
        "print(\"비즈니스 테이블 비즈니스 수 : \")\n",
        "print(biz_df['business_id'].nunique())\n",
        "\n",
        "print(\"리뷰 테이블 비즈니스 수 : \")\n",
        "print(review_df['business_id'].nunique())"
      ],
      "metadata": {
        "id": "sCrMb3yO8-jT"
      },
      "execution_count": null,
      "outputs": []
    },
    {
      "cell_type": "code",
      "source": [
        "## 각 df의 id값 인코딩 함수\n",
        "\n",
        "from sklearn.preprocessing import LabelEncoder\n",
        "\n",
        "def label_encode_column(df, column, encoder=None):\n",
        "    if encoder is None:\n",
        "        encoder = LabelEncoder()\n",
        "        df[column] = encoder.fit_transform(df[column])\n",
        "    else:\n",
        "        df[column] = encoder.transform(df[column])\n",
        "    return encoder"
      ],
      "metadata": {
        "id": "kZOcA0Bq9H8k"
      },
      "execution_count": null,
      "outputs": []
    },
    {
      "cell_type": "code",
      "source": [
        "## review_df의 id값 인코딩 적용 후 user_id와 biz_id에도 동일한 인코더 적용\n",
        "\n",
        "def encode_review_data(review_df, user_df, biz_df):\n",
        "    # 라벨 인코더 초기화\n",
        "    user_encoder = label_encode_column(review_df, 'user_id')\n",
        "    biz_encoder = label_encode_column(review_df, 'business_id')\n",
        "    review_encoder = label_encode_column(review_df, 'review_id')\n",
        "\n",
        "    # 리뷰 데이터프레임에 인코더 적용\n",
        "    label_encode_column(user_df, 'user_id', user_encoder)\n",
        "    label_encode_column(biz_df, 'business_id', biz_encoder)\n",
        "\n",
        "    return review_df, user_df, biz_df"
      ],
      "metadata": {
        "id": "3hPTWmN09S9c"
      },
      "execution_count": null,
      "outputs": []
    },
    {
      "cell_type": "code",
      "source": [
        "# 함수 호출\n",
        "encoded_review_df, encoded_user_df, encoded_biz_df = encode_review_data(review_df, user_df, biz_df)"
      ],
      "metadata": {
        "id": "2JB8UzZW9bMU"
      },
      "execution_count": null,
      "outputs": []
    },
    {
      "cell_type": "code",
      "source": [],
      "metadata": {
        "id": "OCGBI7Ef9nA3"
      },
      "execution_count": null,
      "outputs": []
    },
    {
      "cell_type": "markdown",
      "source": [
        "## Filtering business categories\n",
        "\n",
        "* categories 컬럼 전처리\n",
        "* main/sub라는 새로운 컬럼 생성\n",
        "* main1과 main2가 'Restaurants'와 'Food'인 경우로 필터링"
      ],
      "metadata": {
        "id": "TGcbOmwk9stV"
      }
    },
    {
      "cell_type": "markdown",
      "source": [
        "### categories 컬럼 전처리"
      ],
      "metadata": {
        "id": "4aJaE4YGDrg0"
      }
    },
    {
      "cell_type": "code",
      "source": [
        "encoded_biz_df[\"categories\"][141]  # 확인"
      ],
      "metadata": {
        "id": "uoWfaF74A24k"
      },
      "execution_count": null,
      "outputs": []
    },
    {
      "cell_type": "code",
      "source": [
        "## 1. categories 컬럼 전처리\n",
        "\n",
        "# split 및 공백처리\n",
        "encoded_biz_df = encoded_biz_df.dropna(subset=[\"categories\"])  # 카테고리 없는 행 제거\n",
        "encoded_biz_df[\"categories\"] = encoded_biz_df[\"categories\"].str.split(\",\").apply(lambda x  :  [i.strip() for i in x] if x != None else x)\n",
        "\n",
        "# Food에서 \"Beer, Wine & Spirits\"는 하나로 합쳐줘야 함\n",
        "try :\n",
        "  for idx, row in encoded_biz_df.iterrows() :\n",
        "    for i in range(len(row[\"categories\"])) :\n",
        "      if row[\"categories\"][i] == \"Beer\" :\n",
        "        row[\"categories\"][i] = \"Beer, Wine & Spirits\"\n",
        "        del row[\"categories\"][i+1]\n",
        "        encoded_biz_df.at[idx, \"categories\"] = row[\"categories\"]\n",
        "        break\n",
        "except : # category None인 경우\n",
        "  pass\n",
        "\n",
        "# encoded_biz_df[\"categories\"][141]  # 확인"
      ],
      "metadata": {
        "id": "YzmL-o059zYo"
      },
      "execution_count": null,
      "outputs": []
    },
    {
      "cell_type": "code",
      "source": [
        "encoded_biz_df[\"categories\"][141]  # 확인"
      ],
      "metadata": {
        "id": "bjy0f11GApJu"
      },
      "execution_count": null,
      "outputs": []
    },
    {
      "cell_type": "markdown",
      "source": [
        "### main / sub 파생변수 생성"
      ],
      "metadata": {
        "id": "DzKRIUwJDujn"
      }
    },
    {
      "cell_type": "code",
      "source": [
        "## yelp_categories.json load\n",
        "import json\n",
        "\n",
        "cat_path = \"/content/drive/MyDrive/ASAC 5기/woowahan/dataset/yelp_categories.json\"  # 경로 변경\n",
        "with open( cat_path, 'r') as file:\n",
        "  yelp_cat = json.load(file)"
      ],
      "metadata": {
        "id": "0a5wNw8hAuHt"
      },
      "execution_count": null,
      "outputs": []
    },
    {
      "cell_type": "code",
      "source": [
        "## 카테고리 딕셔너리 생성 함수\n",
        "def create_category_dict(yelp_cat):\n",
        "    category = {c[\"title\"]: {\"alias\": c[\"alias\"], \"subs\": []} for c in yelp_cat if not c[\"parents\"]}\n",
        "    for c in yelp_cat:\n",
        "        if c[\"parents\"]:\n",
        "            for title, info in category.items():\n",
        "                if info[\"alias\"] == c[\"parents\"][0] and c[\"title\"] not in info[\"subs\"]:\n",
        "                    info[\"subs\"].append(c[\"title\"])\n",
        "    return category\n"
      ],
      "metadata": {
        "id": "uGbpy5rODT8h"
      },
      "execution_count": null,
      "outputs": []
    },
    {
      "cell_type": "code",
      "source": [
        "## 메인 카테고리 추출 함수(최대 2개)\n",
        "def extract_main_categories(business, category):\n",
        "    main1, main2 = [], []\n",
        "    cat_set = list(category.keys())\n",
        "    for cats in business[\"categories\"]:\n",
        "        temp = [cat for cat in cats if cat in cat_set]\n",
        "        main1.append(temp[0] if temp else None)\n",
        "        main2.append(temp[1] if len(temp) > 1 else None)\n",
        "    return main1, main2"
      ],
      "metadata": {
        "id": "Nx2OPkcPD-X5"
      },
      "execution_count": null,
      "outputs": []
    },
    {
      "cell_type": "code",
      "source": [
        "## 서브 카테고리 추출 함수\n",
        "def extract_subcategories(business, category, main1, main2):\n",
        "    def process_subcategories(temp):\n",
        "        if len(temp) >= 2:\n",
        "            return (temp[0], temp[1])\n",
        "        elif temp:\n",
        "            return (temp[0], None)\n",
        "        else:\n",
        "            return (None, None)\n",
        "\n",
        "    main1_sub1, main1_sub2 = [], []\n",
        "    main2_sub1, main2_sub2 = [], []\n",
        "\n",
        "    for i, row in business.iterrows():\n",
        "        main1_subs = category[row[\"main1\"]][\"subs\"] if row[\"main1\"] else []\n",
        "        main2_subs = category[row[\"main2\"]][\"subs\"] if row[\"main2\"] else []\n",
        "\n",
        "        temp1 = [cat for cat in row[\"categories\"] if cat in main1_subs]\n",
        "        temp2 = [cat for cat in row[\"categories\"] if cat in main2_subs]\n",
        "\n",
        "        main1_sub = process_subcategories(temp1)\n",
        "        main2_sub = process_subcategories(temp2)\n",
        "\n",
        "        main1_sub1.append(main1_sub[0])\n",
        "        main1_sub2.append(main1_sub[1])\n",
        "        main2_sub1.append(main2_sub[0])\n",
        "        main2_sub2.append(main2_sub[1])\n",
        "\n",
        "    return main1_sub1, main1_sub2, main2_sub1, main2_sub2\n"
      ],
      "metadata": {
        "id": "swqbLXPtEA2m"
      },
      "execution_count": null,
      "outputs": []
    },
    {
      "cell_type": "code",
      "source": [
        "## 함수 적용\n",
        "category_dict = create_category_dict(yelp_cat)\n",
        "main1, main2 = extract_main_categories(encoded_biz_df, category_dict)\n",
        "encoded_biz_df[\"main1\"], encoded_biz_df[\"main2\"] = main1, main2\n",
        "\n",
        "main1_sub1, main1_sub2, main2_sub1, main2_sub2 = extract_subcategories(encoded_biz_df, category_dict, main1, main2)\n",
        "encoded_biz_df[\"main1_sub1\"], encoded_biz_df[\"main1_sub2\"], encoded_biz_df[\"main2_sub1\"], encoded_biz_df[\"main2_sub2\"] = main1_sub1, main1_sub2, main2_sub1, main2_sub2\n",
        "\n",
        "encoded_biz_df.info()"
      ],
      "metadata": {
        "id": "1x6Zepi3EDN0"
      },
      "execution_count": null,
      "outputs": []
    },
    {
      "cell_type": "markdown",
      "source": [
        "### main1 / main2가 'Restaurants' or 'Food'인 비즈니스만 필터링"
      ],
      "metadata": {
        "id": "ODQ3nEuEEjxN"
      }
    },
    {
      "cell_type": "code",
      "source": [
        "## Restaurants, Food 필터링 함수\n",
        "\n",
        "def filter_business_by_main_category(business, categories=[\"Restaurants\", \"Food\"]):\n",
        "    condition = (business[\"main1\"].isin(categories)) | (business[\"main2\"].isin(categories))\n",
        "    return business[condition]"
      ],
      "metadata": {
        "id": "GfBqJ_Y_Eg34"
      },
      "execution_count": null,
      "outputs": []
    },
    {
      "cell_type": "code",
      "source": [
        "## main1의 sub가 비었을 경우, main2가 res,food인 데이터 사용 함수\n",
        "\n",
        "def determine_optimal_category(biz_res_fd):\n",
        "    col = []\n",
        "    for i, row in biz_res_fd.iterrows():\n",
        "        if pd.isna(row[\"main1_sub1\"]) and row[\"main2\"] in [\"Restaurants\", \"Food\"] and pd.notna(row[\"main2_sub1\"]):\n",
        "            col.append([row[\"main2\"], row[\"main2_sub1\"]])\n",
        "        elif row[\"main1\"] not in [\"Restaurants\", \"Food\"] and row[\"main2\"] in [\"Restaurants\", \"Food\"]:\n",
        "            col.append([row[\"main2\"], row[\"main2_sub1\"]])\n",
        "        else:\n",
        "            col.append([row[\"main1\"], row[\"main1_sub1\"]])\n",
        "    biz_res_fd[\"category\"] = col\n",
        "    return biz_res_fd"
      ],
      "metadata": {
        "id": "wb4ZGIVdF9v4"
      },
      "execution_count": null,
      "outputs": []
    },
    {
      "cell_type": "code",
      "source": [
        "## Nan값 필터링 함수\n",
        "\n",
        "def filter_out_nan_categories(biz_res_fd):\n",
        "    condition = biz_res_fd['category'].apply(lambda x: pd.isna(x[1]))\n",
        "    return biz_res_fd[~condition]"
      ],
      "metadata": {
        "id": "ovxGa03aGPpD"
      },
      "execution_count": null,
      "outputs": []
    },
    {
      "cell_type": "code",
      "source": [
        "## 함수 적용\n",
        "filtered_business = filter_business_by_main_category(encoded_biz_df)\n",
        "optimized_categories = determine_optimal_category(filtered_business)\n",
        "encoded_biz_df_filter_cat = filter_out_nan_categories(optimized_categories)"
      ],
      "metadata": {
        "id": "dsb67lqcGTZF"
      },
      "execution_count": null,
      "outputs": []
    },
    {
      "cell_type": "code",
      "source": [
        "# 결과 출력\n",
        "encoded_biz_df_filtered = encoded_biz_df_filter_cat.drop(columns=['categories','main1', 'main2', 'main1_sub1','main1_sub2','main2_sub1','main2_sub2'],axis=1)"
      ],
      "metadata": {
        "id": "SUCt_w95GfxA"
      },
      "execution_count": null,
      "outputs": []
    },
    {
      "cell_type": "code",
      "source": [
        "encoded_biz_df_filtered"
      ],
      "metadata": {
        "id": "E-EHhW4-GmVm"
      },
      "execution_count": null,
      "outputs": []
    },
    {
      "cell_type": "markdown",
      "source": [
        "## Filtering review df\n",
        "\n",
        "* 2017 ~ 2021 로 기간한정\n",
        "\n",
        "* business_df의 카테고리로 필터링\n",
        "\n"
      ],
      "metadata": {
        "id": "wTjoR1PSG7UX"
      }
    },
    {
      "cell_type": "markdown",
      "source": [
        "### 기간 필터링"
      ],
      "metadata": {
        "id": "qC1Udnb9QjJx"
      }
    },
    {
      "cell_type": "code",
      "source": [
        "encoded_review_df['date'].unique()"
      ],
      "metadata": {
        "id": "Mj3ZO-30G86c"
      },
      "execution_count": null,
      "outputs": []
    },
    {
      "cell_type": "code",
      "source": [
        "# 날짜 형식 변경\n",
        "encoded_review_df['date'] = pd.to_datetime(encoded_review_df['date'], format='%Y-%m-%d %H:%M:%S')\n",
        "\n",
        "# 특정 연도 범위 데이터 필터링\n",
        "start, end = 2017, 2021\n",
        "encoded_review_df_filtered_date = encoded_review_df[(encoded_review_df['date'].dt.year >= start) & (encoded_review_df['date'].dt.year <= end)]"
      ],
      "metadata": {
        "id": "xZ0OqTDxI7lJ"
      },
      "execution_count": null,
      "outputs": []
    },
    {
      "cell_type": "code",
      "source": [
        "encoded_review_df_filtered_date['date'].unique()"
      ],
      "metadata": {
        "id": "AslXhkTZJLh-"
      },
      "execution_count": null,
      "outputs": []
    },
    {
      "cell_type": "markdown",
      "source": [
        "### 카테고리 필터링"
      ],
      "metadata": {
        "id": "tVlwcQDHQP3K"
      }
    },
    {
      "cell_type": "code",
      "source": [
        "biz_list = list(encoded_biz_df_filtered[\"business_id\"])\n",
        "encoded_review_df_filtered  = encoded_review_df_filtered_date[encoded_review_df_filtered_date[\"business_id\"].isin(biz_list)]\n",
        "encoded_review_df_filtered.info()"
      ],
      "metadata": {
        "id": "_0EUH3jOJtZl"
      },
      "execution_count": null,
      "outputs": []
    },
    {
      "cell_type": "markdown",
      "source": [
        "## Create most_visite_region column\n",
        "\n",
        "* biz_df 의 city + postal_code를 이용한 region 컬럼 생성\n",
        "\n",
        "* review 테이블에 region 컬럼을 join 하여 user별 최빈값 count\n"
      ],
      "metadata": {
        "id": "B9wxb6-XJ79M"
      }
    },
    {
      "cell_type": "markdown",
      "source": [
        "### Create 'region' col to review table"
      ],
      "metadata": {
        "id": "lJ0Q_d59LNEa"
      }
    },
    {
      "cell_type": "code",
      "source": [
        "# 새로운 region 컬럼 생성 (city와 postal_code 결합)\n",
        "encoded_biz_df_filtered['region'] = encoded_biz_df_filtered['city'] + ', ' + encoded_biz_df_filtered['postal_code'].astype(str)"
      ],
      "metadata": {
        "id": "ecd5XuFuKAnH"
      },
      "execution_count": null,
      "outputs": []
    },
    {
      "cell_type": "code",
      "source": [
        "encoded_biz_df_filtered.info()"
      ],
      "metadata": {
        "id": "AJWkhBdLQHG3"
      },
      "execution_count": null,
      "outputs": []
    },
    {
      "cell_type": "markdown",
      "source": [
        "### Join review table + 'region' column"
      ],
      "metadata": {
        "id": "w6HyZBeuOa9j"
      }
    },
    {
      "cell_type": "code",
      "source": [
        "# biz_df에서 business_id와 region 컬럼만 선택\n",
        "biz_region_df = encoded_biz_df_filtered[['business_id', 'region']]\n",
        "\n",
        "biz_region_df"
      ],
      "metadata": {
        "id": "EvHQkwF9Lla-"
      },
      "execution_count": null,
      "outputs": []
    },
    {
      "cell_type": "code",
      "source": [
        "biz_region_df.info()"
      ],
      "metadata": {
        "id": "k2yTbmTrQN_P"
      },
      "execution_count": null,
      "outputs": []
    },
    {
      "cell_type": "code",
      "source": [
        "## business_id를 기준으로 review_df_select와 biz_region_df 조인\n",
        "\n",
        "merged_biz_rev_df = pd.merge(encoded_review_df_filtered, biz_region_df, on='business_id', how='left')"
      ],
      "metadata": {
        "id": "lF335R6yOgYC"
      },
      "execution_count": null,
      "outputs": []
    },
    {
      "cell_type": "code",
      "source": [
        "# 결과 확인\n",
        "merged_biz_rev_df"
      ],
      "metadata": {
        "id": "or2xpN9cO0mR"
      },
      "execution_count": null,
      "outputs": []
    },
    {
      "cell_type": "code",
      "source": [
        "## 최소한의 컬럼만 선택\n",
        "review_join_region = merged_biz_rev_df[['review_id','user_id','business_id','region']]"
      ],
      "metadata": {
        "id": "wHiV4uRtPH1z"
      },
      "execution_count": null,
      "outputs": []
    },
    {
      "cell_type": "code",
      "source": [
        "review_join_region"
      ],
      "metadata": {
        "id": "MQNyx_1sPLAt"
      },
      "execution_count": null,
      "outputs": []
    },
    {
      "cell_type": "code",
      "source": [
        "import pandas as pd\n",
        "\n",
        "# 'region' 열에서 NaN 값이 있는 행들을 필터링\n",
        "nan_region_rows = review_join_region[review_join_region['region'].isna()]\n",
        "\n",
        "# 결과 출력\n",
        "print(nan_region_rows)\n"
      ],
      "metadata": {
        "id": "ltBgILmySOnw"
      },
      "execution_count": null,
      "outputs": []
    },
    {
      "cell_type": "markdown",
      "source": [
        "### Calculate most_visited_region & visit_count"
      ],
      "metadata": {
        "id": "t-g-d6uCO2b4"
      }
    },
    {
      "cell_type": "code",
      "source": [
        "new_df = encoded_user_df[['user_id']]"
      ],
      "metadata": {
        "id": "D4otuYYEIH9P"
      },
      "execution_count": null,
      "outputs": []
    },
    {
      "cell_type": "code",
      "source": [
        "# sample_review와 sample_biz를 business_id 기준으로 병합\n",
        "merged_df = pd.merge(review_join_region, new_df, on='user_id')\n",
        "\n",
        "# user_id별로 business_id 방문 횟수 계산\n",
        "visit_counts = merged_df.groupby(['user_id', 'region']).size().reset_index(name='visit_cnt')\n",
        "\n",
        "# 가장 많이 방문한 지역을 찾기 위해 user_id별로 최대 방문 횟수 필터링\n",
        "max_visits = visit_counts.loc[visit_counts.groupby('user_id')['visit_cnt'].idxmax()]\n",
        "\n",
        "# 만약 최빈값이 동일한 경우, 날짜를 기준으로 최신 방문 지역을 찾기 위해 user_id별 최신 리뷰 필터링\n",
        "latest_reviews = merged_df.loc[merged_df.groupby(['user_id', 'region'])['date'].idxmax()]\n",
        "\n",
        "# 최대 방문 지역과 최신 리뷰 데이터를 병합\n",
        "final_df = pd.merge(max_visits, latest_reviews[['user_id', 'region', 'date']], on=['user_id', 'region'], how='left')\n",
        "\n",
        "# user_df에 'most_visited_region'과 'visit_cnt' 컬럼 추가\n",
        "new_df = pd.merge(new_df, final_df[['user_id', 'region', 'visit_cnt']], on='user_id', how='left')\n",
        "new_df = new_df.rename(columns={'region': 'most_visited_region'})\n"
      ],
      "metadata": {
        "id": "I32B9AEYH7P-"
      },
      "execution_count": null,
      "outputs": []
    },
    {
      "cell_type": "code",
      "source": [
        "# user_id를 기준으로 most_visited_region과 visit_cnt를 merged_df에 병합\n",
        "encoded_user_df_local = pd.merge(encoded_user_df, new_df[['user_id', 'most_visited_region', 'visit_cnt']], on='user_id', how='left')\n",
        "\n",
        "encoded_user_df_local"
      ],
      "metadata": {
        "id": "YiTNYrhGJCW_"
      },
      "execution_count": null,
      "outputs": []
    },
    {
      "cell_type": "code",
      "source": [
        "# ## 최빈값을 모두 리스트로 반환\n",
        "\n",
        "# def get_all_modes(x):\n",
        "#     value_cnt = x.value_counts()    # 빈도수 계산\n",
        "#     max_freq = value_cnt.max()      # 최빈값 찾기\n",
        "#     modes = list(value_cnt[value_cnt == max_freq].index)    # 최빈값 리스트 변환\n",
        "#     return modes, max_freq          # 최빈값 리스트, 빈도수 반환\n",
        "\n",
        "# def calculate_active_area_to_list(df):\n",
        "#     # groupby를 이용해 region 그룹화\n",
        "#     results = df.groupby('user_id')['region'].apply(lambda x: get_all_modes(x)).reset_index()\n",
        "#     # 각 그룹에 대해 get_all_modes함수 적용\n",
        "#     results[['most_visited_regions', 'visit_count']] = pd.DataFrame(results['region'].tolist(), index=results.index)\n",
        "#     results.drop(columns='region', inplace=True)\n",
        "#     results.columns = ['user_id', 'most_visited_regions', 'visit_count']\n",
        "#     return results\n"
      ],
      "metadata": {
        "id": "1RyKIzzZUvN_"
      },
      "execution_count": null,
      "outputs": []
    },
    {
      "cell_type": "code",
      "source": [
        "# # 함수 호출\n",
        "# active_area_df = calculate_active_area_to_list(review_join_region)\n"
      ],
      "metadata": {
        "id": "1S9YuXA6U5in"
      },
      "execution_count": null,
      "outputs": []
    },
    {
      "cell_type": "code",
      "source": [
        "# ## 최빈값 한개 추출\n",
        "\n",
        "# ## group by를 통한 최빈값 계산\n",
        "# def calculate_active_area(df):\n",
        "#     # user_id별 region의 최빈값과 그 횟수 계산\n",
        "#     most_visited = df.groupby('user_id')['region'].agg(lambda x: x.value_counts().idxmax()).reset_index()\n",
        "#     visit_counts = df.groupby('user_id')['region'].agg(lambda x: x.value_counts().max()).reset_index()\n",
        "\n",
        "#     # 결과를 병합하여 최종 데이터프레임 생성\n",
        "#     active_area_df = pd.merge(most_visited, visit_counts, on='user_id')\n",
        "#     active_area_df.columns = ['user_id', 'most_visited_region', 'visit_count']\n",
        "\n",
        "#     return active_area_df"
      ],
      "metadata": {
        "id": "NXrdzlDkO1MI"
      },
      "execution_count": null,
      "outputs": []
    },
    {
      "cell_type": "code",
      "source": [
        "# # 함수 호출\n",
        "# active_area_df = calculate_active_area(review_join_region)\n"
      ],
      "metadata": {
        "id": "kwtmcnYgPYcF"
      },
      "execution_count": null,
      "outputs": []
    },
    {
      "cell_type": "code",
      "source": [
        "# active_area_df.info()"
      ],
      "metadata": {
        "id": "BM9uTrzQkk9X"
      },
      "execution_count": null,
      "outputs": []
    },
    {
      "cell_type": "code",
      "source": [
        "# active_area_df['visit_count'].value_counts()"
      ],
      "metadata": {
        "id": "dW-6uPNrUCxu",
        "collapsed": true
      },
      "execution_count": null,
      "outputs": []
    },
    {
      "cell_type": "code",
      "source": [
        "print(encoded_user_df_local['visit_cnt'].describe())\n"
      ],
      "metadata": {
        "id": "ZG83u2M7l2qM"
      },
      "execution_count": null,
      "outputs": []
    },
    {
      "cell_type": "code",
      "source": [
        "import matplotlib.pyplot as plt\n",
        "\n",
        "plt.hist(encoded_user_df_local['visit_cnt'], bins=30, color='skyblue', edgecolor='k')\n",
        "plt.title('Histogram of Visit Count')\n",
        "plt.xlabel('Visit Count')\n",
        "plt.ylabel('Frequency')\n",
        "plt.show()\n"
      ],
      "metadata": {
        "id": "_E55haz0ly_Y"
      },
      "execution_count": null,
      "outputs": []
    },
    {
      "cell_type": "code",
      "source": [
        "encoded_user_df_local['most_visited_region'].iloc[352]\n"
      ],
      "metadata": {
        "id": "BqAm7hQokfE9"
      },
      "execution_count": null,
      "outputs": []
    },
    {
      "cell_type": "code",
      "source": [
        "# DF 명\n",
        "# encoded_user_df\n",
        "# encoded_biz_df_filtered\n",
        "# encoded_review_df_filtered\n",
        "# active_area_df"
      ],
      "metadata": {
        "id": "qiacvmi-PdRk"
      },
      "execution_count": null,
      "outputs": []
    },
    {
      "cell_type": "markdown",
      "source": [
        "## Drop columns & Add new columns\n",
        "\n",
        "* user_id 별 review_count_user, average_stars_user add\n",
        "\n",
        "* biz_id 별 review_count_biz, average_stars_biz add\n",
        "\n",
        "* user_df의 review_count, avg_stars drop\n",
        "\n",
        "* biz_df의 review_count, hours drop\n",
        "\n",
        "* review_df text_length add"
      ],
      "metadata": {
        "id": "xiFtI7seRM8_"
      }
    },
    {
      "cell_type": "code",
      "source": [
        "## 함수 1 - 그룹별 리뷰 갯수 반환 함수\n",
        "def add_review_count(df, encoded_review_df_filtered, group_col, count_col_name):\n",
        "    # 그룹별 리뷰 개수 계산\n",
        "    review_counts = encoded_review_df_filtered.groupby(group_col).size().reset_index(name=count_col_name)\n",
        "\n",
        "    # 원본 DataFrame에 병합\n",
        "    df = pd.merge(df, review_counts, how='left', on=group_col)\n",
        "\n",
        "    # 결측값의 개수 계산\n",
        "    missing_count = df[count_col_name].isna().sum()\n",
        "\n",
        "    # 결측값의 개수를 출력\n",
        "    print(f\"리뷰가 없는 {group_col} 수: {missing_count}\")\n",
        "\n",
        "    # 결측값을 0으로 채움 (리뷰가 없는 경우)\n",
        "    df[count_col_name].fillna(0, inplace=True)\n",
        "\n",
        "    return df"
      ],
      "metadata": {
        "id": "f4ghiTpkg-ba"
      },
      "execution_count": null,
      "outputs": []
    },
    {
      "cell_type": "code",
      "source": [
        "## 함수 2 - 그룹별 평균 별점 계산 함수\n",
        "def calculate_avg_rating(df, group_col, rating_col, new_col_name):\n",
        "    # 그룹별 평균 별점 계산\n",
        "    avg_ratings = df.groupby(group_col)[rating_col].mean().reset_index(name=new_col_name)\n",
        "    return avg_ratings"
      ],
      "metadata": {
        "id": "WrhNge6ohdGU"
      },
      "execution_count": null,
      "outputs": []
    },
    {
      "cell_type": "code",
      "source": [
        "## 1. user_id 별 리뷰 수와 별점 평균 add\n",
        "\n",
        "# 리뷰 수 추가\n",
        "encoded_user_df_local = add_review_count(encoded_user_df_local, encoded_review_df_filtered, 'user_id', 'review_count_user')\n",
        "\n",
        "# 평균 별점 계산\n",
        "avg_user_ratings = calculate_avg_rating(encoded_review_df_filtered, 'user_id', 'stars', 'average_stars_user')\n",
        "\n",
        "# 평균 별점을 원본 DataFrame에 병합\n",
        "encoded_user_df_local = pd.merge(encoded_user_df_local, avg_user_ratings, how='left', on='user_id')\n",
        "\n"
      ],
      "metadata": {
        "id": "cJkYT_GreOyM"
      },
      "execution_count": null,
      "outputs": []
    },
    {
      "cell_type": "code",
      "source": [
        "encoded_user_df_local.info()"
      ],
      "metadata": {
        "id": "T_uBx3REh9IX"
      },
      "execution_count": null,
      "outputs": []
    },
    {
      "cell_type": "code",
      "source": [
        "## 2. biz_id 별 리뷰 수와 별점 평균 add\n",
        "\n",
        "# 리뷰 수 추가\n",
        "encoded_biz_df_filtered = add_review_count(encoded_biz_df_filtered, encoded_review_df_filtered, 'business_id', 'review_count_biz')\n",
        "\n",
        "# 평균 별점 계산\n",
        "avg_biz_ratings = calculate_avg_rating(encoded_review_df_filtered, 'business_id', 'stars', 'average_stars_biz')\n",
        "\n",
        "# 평균 별점을 원본 DataFrame에 병합\n",
        "encoded_biz_df_filtered = pd.merge(encoded_biz_df_filtered, avg_biz_ratings, how='left', on='business_id')\n",
        "\n"
      ],
      "metadata": {
        "id": "6fj1ZvMuRfhI"
      },
      "execution_count": null,
      "outputs": []
    },
    {
      "cell_type": "code",
      "source": [
        "encoded_biz_df_filtered"
      ],
      "metadata": {
        "id": "RLOR3b_Kbl--"
      },
      "execution_count": null,
      "outputs": []
    },
    {
      "cell_type": "code",
      "source": [
        "## 3. 불필요한 컬럼 drop\n",
        "encoded_user_df = encoded_user_df.drop(columns=['review_count','average_stars'], axis=1)\n",
        "encoded_biz_df_filtered = encoded_biz_df_filtered.drop(columns=['review_count', 'stars','hours'],axis=1)"
      ],
      "metadata": {
        "id": "FNwv7mcJdPtv"
      },
      "execution_count": null,
      "outputs": []
    },
    {
      "cell_type": "code",
      "source": [
        "## 4. review_df text_length 추가\n",
        "\n",
        "import nltk\n",
        "from nltk.tokenize import PunktSentenceTokenizer\n",
        "from nltk.corpus import stopwords\n",
        "from nltk.stem.porter import PorterStemmer\n",
        "nltk.download('punkt')\n",
        "nltk.download('stopwords')\n",
        "\n",
        "# \\n, (?), (?, ?)을 공백으로 대체하는 코드\n",
        "encoded_review_df_filtered['text'] = encoded_review_df_filtered['text'].str.replace(r'\\n', ' ', regex=True)\n",
        "encoded_review_df_filtered['text'] = encoded_review_df_filtered['text'].str.replace(r'\\(\\?\\)', ' ', regex=True)\n",
        "encoded_review_df_filtered['text'] = encoded_review_df_filtered['text'].str.replace(r'\\(\\?, \\?\\)', ' ', regex=True)\n",
        "\n",
        "\n",
        "# 문장으로 분리\n",
        "tokenizer = PunktSentenceTokenizer()\n",
        "\n",
        "\n",
        "# 문장 개수 계산 및 데이터프레임에 추가\n",
        "encoded_review_df_filtered['text_length'] = encoded_review_df_filtered['text'].apply(lambda x: len(tokenizer.tokenize(x)))\n"
      ],
      "metadata": {
        "id": "4pLwR-07rNel"
      },
      "execution_count": null,
      "outputs": []
    },
    {
      "cell_type": "markdown",
      "source": [
        "## Check Final DataFrame"
      ],
      "metadata": {
        "id": "dnrBZuf2i-7Z"
      }
    },
    {
      "cell_type": "code",
      "source": [
        "encoded_user_df_local.info()"
      ],
      "metadata": {
        "id": "5-I7bCBirO2w"
      },
      "execution_count": null,
      "outputs": []
    },
    {
      "cell_type": "code",
      "source": [
        "encoded_user_df_local.head()"
      ],
      "metadata": {
        "id": "qJWZE9f0rk8w"
      },
      "execution_count": null,
      "outputs": []
    },
    {
      "cell_type": "code",
      "source": [
        "encoded_biz_df_filtered.info()"
      ],
      "metadata": {
        "id": "i3XA-HznrQ5m"
      },
      "execution_count": null,
      "outputs": []
    },
    {
      "cell_type": "code",
      "source": [
        "encoded_biz_df_filtered.head()"
      ],
      "metadata": {
        "id": "5bDp8MrcsCAM"
      },
      "execution_count": null,
      "outputs": []
    },
    {
      "cell_type": "code",
      "source": [
        "encoded_review_df_filtered.info()"
      ],
      "metadata": {
        "id": "xtBrphncrTAF"
      },
      "execution_count": null,
      "outputs": []
    },
    {
      "cell_type": "code",
      "source": [
        "encoded_review_df_filtered.head()"
      ],
      "metadata": {
        "id": "VmkXsLSksWCe"
      },
      "execution_count": null,
      "outputs": []
    },
    {
      "cell_type": "code",
      "source": [
        "active_area_df.info()"
      ],
      "metadata": {
        "id": "LzCavoc9rUAU"
      },
      "execution_count": null,
      "outputs": []
    },
    {
      "cell_type": "code",
      "source": [
        "active_area_df.head()"
      ],
      "metadata": {
        "id": "QQ8bnVjJsYNl"
      },
      "execution_count": null,
      "outputs": []
    },
    {
      "cell_type": "markdown",
      "source": [
        "## Save Final DataFrame"
      ],
      "metadata": {
        "id": "vI4np5ihsGcG"
      }
    },
    {
      "cell_type": "code",
      "source": [
        "# # DataFrame 저장\n",
        "# encoded_user_df_local.to_csv('/content/drive/MyDrive/ASAC 5기/woowahan/dataset/final/encoded_user_df_local.csv', index=False)\n",
        "# encoded_biz_df_filtered.to_csv('/content/drive/MyDrive/ASAC 5기/woowahan/dataset/final/encoded_biz_df_filtered.csv', index=False)\n",
        "# encoded_review_df_filtered.to_csv('/content/drive/MyDrive/ASAC 5기/woowahan/dataset/final/encoded_review_df_filtered.csv', index=False)\n",
        "# active_area_df.to_csv('/content/drive/MyDrive/ASAC 5기/woowahan/dataset/final/active_area_df.csv', index=False)"
      ],
      "metadata": {
        "id": "dqSbhEvJjCtR"
      },
      "execution_count": null,
      "outputs": []
    },
    {
      "cell_type": "code",
      "source": [],
      "metadata": {
        "id": "D9xrSCoBjQdF"
      },
      "execution_count": null,
      "outputs": []
    }
  ]
}